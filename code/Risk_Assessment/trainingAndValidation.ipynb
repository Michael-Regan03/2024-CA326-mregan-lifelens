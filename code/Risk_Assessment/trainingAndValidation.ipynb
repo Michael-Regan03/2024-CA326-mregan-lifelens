{
  "nbformat": 4,
  "nbformat_minor": 0,
  "metadata": {
    "colab": {
      "provenance": []
    },
    "kernelspec": {
      "name": "python3",
      "display_name": "Python 3"
    },
    "language_info": {
      "name": "python"
    }
  },
  "cells": [
    {
      "cell_type": "markdown",
      "source": [
        "#Enviroment Setup"
      ],
      "metadata": {
        "id": "8amKFFZxQl1J"
      }
    },
    {
      "cell_type": "code",
      "source": [
        "! pip install numpy\n",
        "! pip install scikit-learn\n",
        "! pip install datasets"
      ],
      "metadata": {
        "id": "C8pnWpsB6UxS"
      },
      "execution_count": null,
      "outputs": []
    },
    {
      "cell_type": "markdown",
      "source": [
        "#Import Dataset"
      ],
      "metadata": {
        "id": "raAR-EKUQzOm"
      }
    },
    {
      "cell_type": "code",
      "source": [
        "from google.colab import drive, files\n",
        "drive.mount('/content/drive')\n",
        "uploaded = files.upload()"
      ],
      "metadata": {
        "id": "h3F6HTRJ6y3e"
      },
      "execution_count": null,
      "outputs": []
    },
    {
      "cell_type": "markdown",
      "source": [
        "#Data Splitting"
      ],
      "metadata": {
        "id": "qdKCdbKeQiz9"
      }
    },
    {
      "cell_type": "code",
      "source": [
        "RANDOM_SEED = 326"
      ],
      "metadata": {
        "id": "Cp_dmbMEOwIt"
      },
      "execution_count": null,
      "outputs": []
    },
    {
      "cell_type": "code",
      "execution_count": null,
      "metadata": {
        "id": "IM_NoAbBpHKx"
      },
      "outputs": [],
      "source": [
        "import pandas as pd\n",
        "import numpy as np\n",
        "import ast\n",
        "from sklearn.model_selection import train_test_split\n",
        "import ast\n",
        "\n",
        "\n",
        "df = pd.read_csv('balanced_distrabution.csv')\n",
        "\n",
        "#Bit lists are in string form\n",
        "df['Behaviour'] = df['Behaviour'].apply(lambda x: np.array(list(map(int, ast.literal_eval(x)))))\n",
        "df['Illnesses'] = df['Illnesses'].apply(lambda x: np.array(list(map(int,  ast.literal_eval(x)))))\n",
        "\n",
        "x = np.stack(df['Behaviour'].values)\n",
        "y = np.stack(df['Illnesses'].values)\n",
        "\n",
        "#Splitting data for training and validation\n",
        "X_train, X_test, y_train, y_test = train_test_split(x, y, test_size=0.3, random_state=RANDOM_SEED)"
      ]
    },
    {
      "cell_type": "markdown",
      "source": [
        "#Training\n"
      ],
      "metadata": {
        "id": "zD9Jqq_lRBPv"
      }
    },
    {
      "cell_type": "code",
      "source": [
        "#Trianing logistic Regression\n",
        "\n",
        "from sklearn.multioutput import MultiOutputClassifier\n",
        "from sklearn.linear_model import LogisticRegression\n",
        "\n",
        "\n",
        "log_reg_params = {\n",
        "    'max_iter': 400000\n",
        "}\n",
        "\n",
        "\n",
        "log_reg_model = LogisticRegression(**log_reg_params)\n",
        "\n",
        "model = MultiOutputClassifier(log_reg_model)\n",
        "\n",
        "model.fit(X_train, y_train)\n"
      ],
      "metadata": {
        "id": "rAyxsjL9RFfy"
      },
      "execution_count": null,
      "outputs": []
    },
    {
      "cell_type": "code",
      "source": [
        "#Training Random Forest Classification\n",
        "\n",
        "from sklearn.multioutput import MultiOutputClassifier\n",
        "from sklearn.ensemble import RandomForestClassifier\n",
        "\n",
        "\n",
        "model = MultiOutputClassifier(RandomForestClassifier()).fit(X_train, y_train)\n",
        "\n"
      ],
      "metadata": {
        "id": "ntcK2_ZYhZKB"
      },
      "execution_count": null,
      "outputs": []
    },
    {
      "cell_type": "markdown",
      "source": [
        "#Testing"
      ],
      "metadata": {
        "id": "qC_Qm88B_mr0"
      }
    },
    {
      "cell_type": "code",
      "source": [
        "test_data = np.array([\n",
        "    [1, 0, 0, 0, 0, 0, 0, 0, 0, 0, 1, 0, 0, 1, 0, 0, 0]\n",
        "])\n",
        "\n",
        "t\n",
        "predictions = model.predict_proba(test_data)\n",
        "\n",
        "print(predictions)"
      ],
      "metadata": {
        "id": "6dOvT7GI_dC5"
      },
      "execution_count": null,
      "outputs": []
    },
    {
      "cell_type": "code",
      "source": [],
      "metadata": {
        "id": "lFFHazfj_iHZ"
      },
      "execution_count": null,
      "outputs": []
    },
    {
      "cell_type": "markdown",
      "source": [
        "#Evaluation"
      ],
      "metadata": {
        "id": "7fc-YYy7RSLo"
      }
    },
    {
      "cell_type": "code",
      "source": [
        "from sklearn.metrics import accuracy_score, precision_score, recall_score, f1_score\n",
        "\n",
        "y_pred = model.predict(X_test)\n",
        "\n",
        "\n",
        "accuracy = accuracy_score(y_test, y_pred)\n",
        "precision = precision_score(y_test, y_pred, average=None)\n",
        "recall = recall_score(y_test, y_pred, average=None )\n",
        "f1 = f1_score(y_test, y_pred, average=None )\n",
        "\n",
        "\n",
        "print(f\"Accuracy:{accuracy}\")\n",
        "print(f\"Precision:{precision}\")\n",
        "print(f\"Recall:{recall}\")\n",
        "print(f\"F1 Score:{f1}\")"
      ],
      "metadata": {
        "colab": {
          "base_uri": "https://localhost:8080/"
        },
        "id": "mB8g9-yWQLSg",
        "outputId": "de3991a4-3812-4cdd-fcac-d2ccd9f960db"
      },
      "execution_count": null,
      "outputs": [
        {
          "output_type": "stream",
          "name": "stdout",
          "text": [
            "Accuracy:0.3199303742384682\n",
            "Precision:[0.70220588 0.64044944 0.70032573 0.78672032 0.70515971 0.70526671\n",
            " 0.70864382 0.69343696 0.68836915 0.66060226]\n",
            "Recall:[0.3046252  0.33187773 0.33938437 0.36576239 0.34557495 0.75551537\n",
            " 0.71719457 0.43570266 0.51832461 0.5610016 ]\n",
            "F1 Score:[0.42491657 0.43720038 0.45720362 0.49936143 0.46383838 0.7295268\n",
            " 0.71289355 0.53515495 0.59136573 0.60674157]\n"
          ]
        }
      ]
    },
    {
      "cell_type": "markdown",
      "source": [
        "# Download\n"
      ],
      "metadata": {
        "id": "nKhyhMtfxEay"
      }
    },
    {
      "cell_type": "code",
      "source": [
        "import pickle\n",
        "from google.colab import files\n",
        "\n",
        "# save as pkl file\n",
        "with open('RFCmodel.pkl', 'wb') as file:\n",
        "    pickle.dump(model, file)\n",
        "\n",
        "files.download('RFCmodel.pkl')"
      ],
      "metadata": {
        "colab": {
          "base_uri": "https://localhost:8080/",
          "height": 17
        },
        "id": "CQrE2iIuxJ9K",
        "outputId": "e2865998-cfb8-4199-c6af-cb52328ea25b"
      },
      "execution_count": null,
      "outputs": [
        {
          "output_type": "display_data",
          "data": {
            "text/plain": [
              "<IPython.core.display.Javascript object>"
            ],
            "application/javascript": [
              "\n",
              "    async function download(id, filename, size) {\n",
              "      if (!google.colab.kernel.accessAllowed) {\n",
              "        return;\n",
              "      }\n",
              "      const div = document.createElement('div');\n",
              "      const label = document.createElement('label');\n",
              "      label.textContent = `Downloading \"${filename}\": `;\n",
              "      div.appendChild(label);\n",
              "      const progress = document.createElement('progress');\n",
              "      progress.max = size;\n",
              "      div.appendChild(progress);\n",
              "      document.body.appendChild(div);\n",
              "\n",
              "      const buffers = [];\n",
              "      let downloaded = 0;\n",
              "\n",
              "      const channel = await google.colab.kernel.comms.open(id);\n",
              "      // Send a message to notify the kernel that we're ready.\n",
              "      channel.send({})\n",
              "\n",
              "      for await (const message of channel.messages) {\n",
              "        // Send a message to notify the kernel that we're ready.\n",
              "        channel.send({})\n",
              "        if (message.buffers) {\n",
              "          for (const buffer of message.buffers) {\n",
              "            buffers.push(buffer);\n",
              "            downloaded += buffer.byteLength;\n",
              "            progress.value = downloaded;\n",
              "          }\n",
              "        }\n",
              "      }\n",
              "      const blob = new Blob(buffers, {type: 'application/binary'});\n",
              "      const a = document.createElement('a');\n",
              "      a.href = window.URL.createObjectURL(blob);\n",
              "      a.download = filename;\n",
              "      div.appendChild(a);\n",
              "      a.click();\n",
              "      div.remove();\n",
              "    }\n",
              "  "
            ]
          },
          "metadata": {}
        },
        {
          "output_type": "display_data",
          "data": {
            "text/plain": [
              "<IPython.core.display.Javascript object>"
            ],
            "application/javascript": [
              "download(\"download_2ad90cfa-fb98-4717-9888-de02704ecb48\", \"RFCmodel.pkl\", 27543710)"
            ]
          },
          "metadata": {}
        }
      ]
    }
  ]
}